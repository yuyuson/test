{
 "cells": [
  {
   "cell_type": "markdown",
   "metadata": {},
   "source": [
    "# Python 入門\n",
    "\n",
    "資料來源：https://github.com/chengchingwen/Python-Introduction"
   ]
  },
  {
   "cell_type": "markdown",
   "metadata": {},
   "source": [
    "## 基本運算"
   ]
  },
  {
   "cell_type": "code",
   "execution_count": 6,
   "metadata": {},
   "outputs": [
    {
     "data": {
      "text/plain": [
       "3"
      ]
     },
     "execution_count": 6,
     "metadata": {},
     "output_type": "execute_result"
    }
   ],
   "source": [
    "1+2       # 加法"
   ]
  },
  {
   "cell_type": "code",
   "execution_count": 7,
   "metadata": {},
   "outputs": [
    {
     "data": {
      "text/plain": [
       "-1"
      ]
     },
     "execution_count": 7,
     "metadata": {},
     "output_type": "execute_result"
    }
   ],
   "source": [
    "3-4       # 減法"
   ]
  },
  {
   "cell_type": "code",
   "execution_count": 8,
   "metadata": {},
   "outputs": [
    {
     "data": {
      "text/plain": [
       "30"
      ]
     },
     "execution_count": 8,
     "metadata": {},
     "output_type": "execute_result"
    }
   ],
   "source": [
    "5*6       # 乘法"
   ]
  },
  {
   "cell_type": "code",
   "execution_count": 9,
   "metadata": {},
   "outputs": [
    {
     "data": {
      "text/plain": [
       "0.875"
      ]
     },
     "execution_count": 9,
     "metadata": {},
     "output_type": "execute_result"
    }
   ],
   "source": [
    "7/8       # 除法"
   ]
  },
  {
   "cell_type": "code",
   "execution_count": 11,
   "metadata": {},
   "outputs": [
    {
     "data": {
      "text/plain": [
       "0"
      ]
     },
     "execution_count": 11,
     "metadata": {},
     "output_type": "execute_result"
    }
   ],
   "source": [
    "7//8      # 除法，無條件捨去到個位數(取整數)"
   ]
  },
  {
   "cell_type": "code",
   "execution_count": 12,
   "metadata": {},
   "outputs": [
    {
     "data": {
      "text/plain": [
       "1"
      ]
     },
     "execution_count": 12,
     "metadata": {},
     "output_type": "execute_result"
    }
   ],
   "source": [
    "10%9      # 取餘數"
   ]
  },
  {
   "cell_type": "code",
   "execution_count": 15,
   "metadata": {},
   "outputs": [
    {
     "data": {
      "text/plain": [
       "1024"
      ]
     },
     "execution_count": 15,
     "metadata": {},
     "output_type": "execute_result"
    }
   ],
   "source": [
    "2 ** 10   # 指數"
   ]
  },
  {
   "cell_type": "code",
   "execution_count": 8,
   "metadata": {},
   "outputs": [
    {
     "data": {
      "text/plain": [
       "1.4142135623730951"
      ]
     },
     "execution_count": 8,
     "metadata": {},
     "output_type": "execute_result"
    }
   ],
   "source": [
    "2 ** (1/2)   # 開根號"
   ]
  },
  {
   "cell_type": "code",
   "execution_count": 10,
   "metadata": {},
   "outputs": [
    {
     "data": {
      "text/plain": [
       "(1+2j)"
      ]
     },
     "execution_count": 10,
     "metadata": {},
     "output_type": "execute_result"
    }
   ],
   "source": [
    "1+2j         # 複數 (這裡虛部用 j 表示)"
   ]
  },
  {
   "cell_type": "code",
   "execution_count": 10,
   "metadata": {},
   "outputs": [
    {
     "data": {
      "text/plain": [
       "(-5+10j)"
      ]
     },
     "execution_count": 10,
     "metadata": {},
     "output_type": "execute_result"
    }
   ],
   "source": [
    "(1+2j) * (3+4j)    # 複數乘法"
   ]
  },
  {
   "cell_type": "code",
   "execution_count": 11,
   "metadata": {},
   "outputs": [
    {
     "data": {
      "text/plain": [
       "1"
      ]
     },
     "execution_count": 11,
     "metadata": {},
     "output_type": "execute_result"
    }
   ],
   "source": [
    "abs(-1)      # absolute, 絕對值"
   ]
  },
  {
   "cell_type": "code",
   "execution_count": 12,
   "metadata": {},
   "outputs": [
    {
     "data": {
      "text/plain": [
       "2.23606797749979"
      ]
     },
     "execution_count": 12,
     "metadata": {},
     "output_type": "execute_result"
    }
   ],
   "source": [
    "abs(1+2j)    # absolute, 絕對值"
   ]
  },
  {
   "cell_type": "code",
   "execution_count": 13,
   "metadata": {},
   "outputs": [
    {
     "data": {
      "text/plain": [
       "2.23606797749979"
      ]
     },
     "execution_count": 13,
     "metadata": {},
     "output_type": "execute_result"
    }
   ],
   "source": [
    "import numpy as np\n",
    "np.sqrt(5)"
   ]
  },
  {
   "cell_type": "code",
   "execution_count": 14,
   "metadata": {},
   "outputs": [
    {
     "data": {
      "text/plain": [
       "3.142"
      ]
     },
     "execution_count": 14,
     "metadata": {},
     "output_type": "execute_result"
    }
   ],
   "source": [
    "round(3.1415926, 3)     # 四捨五入到小數點後第 3 位"
   ]
  },
  {
   "cell_type": "code",
   "execution_count": 15,
   "metadata": {},
   "outputs": [
    {
     "data": {
      "text/plain": [
       "3.1416"
      ]
     },
     "execution_count": 15,
     "metadata": {},
     "output_type": "execute_result"
    }
   ],
   "source": [
    "round(3.1415926, 4)     # 四捨五入到小數點後第 4 位"
   ]
  },
  {
   "cell_type": "markdown",
   "metadata": {},
   "source": [
    "## <font color=\"Red\"> 1.1 熟能生巧 </font>\n",
    "<font color=\"Red\"> 練習以下狀況    \n",
    "<font color=\"Red\"> 1. 7.23 的 20 次方    \n",
    "<font color=\"Red\"> 2. 虛數 i 的平方    \n",
    "<font color=\"Red\"> 3. 42 的四次方根   \n",
    "<font color=\"Red\"> 補充 : 運算有先後順序，可以用括弧來確保自己想要的順序 "
   ]
  },
  {
   "cell_type": "code",
   "execution_count": 16,
   "metadata": {
    "scrolled": false
   },
   "outputs": [
    {
     "name": "stdout",
     "output_type": "stream",
     "text": [
      "7.23 的 15 次方是： 2.106821048535008e+16\n",
      "虛數 i 的平方是： (-1+0j)\n",
      "42 的四次方根是： 2.5457298950218306\n"
     ]
    }
   ],
   "source": [
    "#------------------- Code Here ------------------------#\n",
    "\n",
    "\n",
    "#------------------- Stop Here ------------------------#"
   ]
  },
  {
   "cell_type": "code",
   "execution_count": 47,
   "metadata": {},
   "outputs": [
    {
     "name": "stdout",
     "output_type": "stream",
     "text": [
      "7.23 的 15 次方是：  2.106821048535008e+16\n",
      "虛數 i 的平方是： (-1+0j)\n",
      "42 的四次方根是： 2.5457298950218306\n",
      "42 的四次方根是： 2.5457298950218306\n"
     ]
    }
   ],
   "source": [
    "print(\"7.23 的 15 次方是： \",7.23**19)\n",
    "print(\"虛數 i 的平方是：\", 1j**2)\n",
    "print(\"42 的四次方根是：\",42**(1/4))\n",
    "\n",
    "a = 42\n",
    "import numpy as np\n",
    "a=np.sqrt(a)\n",
    "a=np.sqrt(a)\n",
    "print(\"42 的四次方根是：\",a)"
   ]
  },
  {
   "cell_type": "markdown",
   "metadata": {},
   "source": [
    "## <font color=\"Red\"> 1.2 數字的顯示方式  % vs. format  \n",
    "https://kknews.cc/zh-tw/code/qlpq5nb.html    \n",
    "<font color=\"Red\">練習分別使用%與format進行\"7.23 的 3.25 次方\" 之不同顯示方式(顯示小數點以下第5位)   "
   ]
  },
  {
   "cell_type": "code",
   "execution_count": 17,
   "metadata": {
    "scrolled": true
   },
   "outputs": [
    {
     "name": "stdout",
     "output_type": "stream",
     "text": [
      "7.23 的 3.25 次方是： 619.7256422209355\n",
      "7.23 的 3.25 次方是：619.72564\n",
      "7.23 的 3.25 次方是：619.72564\n"
     ]
    }
   ],
   "source": [
    "print(\"7.23 的 3.25 次方是：\", 7.23**3.25)\n",
    "#------------------- Code Here ------------------------#\n",
    "\n",
    "#------------------- Stop Here ------------------------#"
   ]
  },
  {
   "cell_type": "code",
   "execution_count": 51,
   "metadata": {},
   "outputs": [
    {
     "data": {
      "text/plain": [
       "'b, c, a'"
      ]
     },
     "execution_count": 51,
     "metadata": {},
     "output_type": "execute_result"
    }
   ],
   "source": [
    "'{2}, {1}, {0}'.format(*'acb') # 可打亂順序"
   ]
  },
  {
   "cell_type": "code",
   "execution_count": 49,
   "metadata": {
    "scrolled": false
   },
   "outputs": [
    {
     "name": "stdout",
     "output_type": "stream",
     "text": [
      "7.23 的 3.25 次方是： 619.7256422209355\n",
      "7.23 的 3.25 次方是： 619.72564 he\n",
      "he\n",
      "7.23 的 3.25 次方是：619.72564\n"
     ]
    }
   ],
   "source": [
    "print(\"7.23 的 3.25 次方是：\", 7.23**3.25)\n",
    "a=7.23**3.25\n",
    "print(\"7.23 的 3.25 次方是：\",'%.5f'% a ,\"%.2s\" % \"hello\" )\n",
    "print('%.2s' % \"hello\")\n",
    "print(\"7.23 的 3.25 次方是：{:.5f}\".format(a))"
   ]
  },
  {
   "cell_type": "markdown",
   "metadata": {},
   "source": [
    "## 賦值 (Assign)\n",
    "\n",
    "用 `=` 來給變數內容值"
   ]
  },
  {
   "cell_type": "code",
   "execution_count": 18,
   "metadata": {},
   "outputs": [],
   "source": [
    "a = 1\n",
    "b = 1.5\n",
    "c = \"asd\""
   ]
  },
  {
   "cell_type": "code",
   "execution_count": 9,
   "metadata": {},
   "outputs": [
    {
     "name": "stdout",
     "output_type": "stream",
     "text": [
      "a: <class 'int'>\n",
      "b: <class 'float'>\n",
      "c: <class 'str'>\n",
      "number=1 \n",
      "thisYearMonthDay=2023.9.27 \n",
      "myCountry=Taiwan\n"
     ]
    }
   ],
   "source": [
    "number = 1\n",
    "thisYearMonthDay =\"2023.9.27\"\n",
    "myCountry = \"Taiwan\"\n",
    "print(\"a:\",type(a))\n",
    "print(\"b:\",type(b))\n",
    "print(\"c:\",type(c))\n",
    "\n",
    "print(\"number=\"+str(number),\"\\nthisYearMonthDay=\"+thisYearMonthDay,\"\\nmyCountry=\"+myCountry)"
   ]
  },
  {
   "cell_type": "markdown",
   "metadata": {},
   "source": [
    "## 型別 (Type)\n",
    "\n",
    "在程式語言中，型別概念上來說就像是物品的種類，例如：「這群是筆，那群是橡皮擦」。\n",
    "\n",
    "\n",
    "## Python 的內建型別 (Built-in Types)\n",
    "\n",
    "* int (整數)\n",
    "* float (浮點數)\n",
    "* complex (複數)\n",
    "* str (字串)\n",
    "* tuple\n",
    "* list\n",
    "* dict\n",
    "* set\n",
    "* ..."
   ]
  },
  {
   "cell_type": "code",
   "execution_count": 19,
   "metadata": {
    "scrolled": true
   },
   "outputs": [
    {
     "data": {
      "text/plain": [
       "int"
      ]
     },
     "execution_count": 19,
     "metadata": {},
     "output_type": "execute_result"
    }
   ],
   "source": [
    "type(42)    # 用 type 可以得知型別"
   ]
  },
  {
   "cell_type": "code",
   "execution_count": 20,
   "metadata": {},
   "outputs": [
    {
     "data": {
      "text/plain": [
       "float"
      ]
     },
     "execution_count": 20,
     "metadata": {},
     "output_type": "execute_result"
    }
   ],
   "source": [
    "type(3.14159265358979323846)"
   ]
  },
  {
   "cell_type": "code",
   "execution_count": 21,
   "metadata": {},
   "outputs": [
    {
     "name": "stdout",
     "output_type": "stream",
     "text": [
      "619.7256422209355 3\n",
      "<class 'float'>\n",
      "<class 'int'>\n"
     ]
    }
   ],
   "source": [
    "a = 7.23**3.25\n",
    "b = 3\n",
    "print(a,b)\n",
    "print(type(a))\n",
    "print(type(b))"
   ]
  },
  {
   "cell_type": "code",
   "execution_count": 18,
   "metadata": {},
   "outputs": [
    {
     "name": "stdout",
     "output_type": "stream",
     "text": [
      "pi的3.5次方:54.95703\n",
      "pi的3.5次方:54.95703\n"
     ]
    }
   ],
   "source": [
    "c=3.25\n",
    "a = 7.23**c\n",
    "b = 3\n",
    "# print(a,b)\n",
    "# print(type(a))\n",
    "# print(type(b))\n",
    "\n",
    "pi=3.14159\n",
    "times=3.5\n",
    "result=pi**times\n",
    "print(\"pi的3.5次方:%.5f\"%result)\n",
    "print(\"pi的3.5次方:{:.5f}\".format(result))"
   ]
  },
  {
   "cell_type": "code",
   "execution_count": 22,
   "metadata": {
    "scrolled": false
   },
   "outputs": [
    {
     "data": {
      "text/plain": [
       "'測試'"
      ]
     },
     "execution_count": 22,
     "metadata": {},
     "output_type": "execute_result"
    }
   ],
   "source": [
    "\"測試\"      # str, 字串"
   ]
  },
  {
   "cell_type": "code",
   "execution_count": 4,
   "metadata": {},
   "outputs": [
    {
     "name": "stdout",
     "output_type": "stream",
     "text": [
      "<class 'str'>\n"
     ]
    }
   ],
   "source": [
    "print(type(\"測試\" ))"
   ]
  },
  {
   "cell_type": "code",
   "execution_count": 23,
   "metadata": {},
   "outputs": [
    {
     "data": {
      "text/plain": [
       "'\\n我\\n是\\n多\\n行\\n字\\n串\\n'"
      ]
     },
     "execution_count": 23,
     "metadata": {},
     "output_type": "execute_result"
    }
   ],
   "source": [
    "\"\"\"\n",
    "我\n",
    "是\n",
    "多\n",
    "行\n",
    "字\n",
    "串\n",
    "\"\"\"       # 用 3 個 \" 夾起來"
   ]
  },
  {
   "cell_type": "code",
   "execution_count": 5,
   "metadata": {},
   "outputs": [
    {
     "data": {
      "text/plain": [
       "'\\n我\\n是\\n多\\n行\\n字\\n串\\n'"
      ]
     },
     "execution_count": 5,
     "metadata": {},
     "output_type": "execute_result"
    }
   ],
   "source": [
    "\"\"\"\n",
    "我\n",
    "是\n",
    "多\n",
    "行\n",
    "字\n",
    "串\n",
    "\"\"\" "
   ]
  },
  {
   "cell_type": "code",
   "execution_count": 24,
   "metadata": {},
   "outputs": [
    {
     "data": {
      "text/plain": [
       "'\\n我\\n是\\n多\\n行\\n字\\n串\\n'"
      ]
     },
     "execution_count": 24,
     "metadata": {},
     "output_type": "execute_result"
    }
   ],
   "source": [
    "'''\n",
    "我\n",
    "是\n",
    "多\n",
    "行\n",
    "字\n",
    "串\n",
    "'''       # 也可以用 3 個 ' 夾起來"
   ]
  },
  {
   "cell_type": "code",
   "execution_count": 25,
   "metadata": {},
   "outputs": [
    {
     "data": {
      "text/plain": [
       "(42, 'O w O')"
      ]
     },
     "execution_count": 25,
     "metadata": {},
     "output_type": "execute_result"
    }
   ],
   "source": [
    "(42, 'O w O')    # tuple, 可以放入各種東西的大箱子，放完後不能更動"
   ]
  },
  {
   "cell_type": "code",
   "execution_count": 26,
   "metadata": {},
   "outputs": [
    {
     "data": {
      "text/plain": [
       "42"
      ]
     },
     "execution_count": 26,
     "metadata": {},
     "output_type": "execute_result"
    }
   ],
   "source": [
    "foo = (42, 'O w O')\n",
    "foo[0]          # subscript operator 可以取出其中的值\n",
    "                 # 注意，index 從 0 開始算"
   ]
  },
  {
   "cell_type": "code",
   "execution_count": 27,
   "metadata": {},
   "outputs": [],
   "source": [
    "tu = [42, 'O w O']    # list 和 tuple 相似，但放完後可以更動"
   ]
  },
  {
   "cell_type": "code",
   "execution_count": 28,
   "metadata": {},
   "outputs": [],
   "source": [
    "tu[0] = 11"
   ]
  },
  {
   "cell_type": "code",
   "execution_count": 29,
   "metadata": {},
   "outputs": [
    {
     "data": {
      "text/plain": [
       "{'a': 1, 'b': 42}"
      ]
     },
     "execution_count": 29,
     "metadata": {},
     "output_type": "execute_result"
    }
   ],
   "source": [
    "{'a': 1, 'b': 42}    # dict，冒號左邊的是 key、右邊的是 value，用 key 可以查到 value (想像查字典的狀況)"
   ]
  },
  {
   "cell_type": "code",
   "execution_count": 30,
   "metadata": {},
   "outputs": [
    {
     "data": {
      "text/plain": [
       "42"
      ]
     },
     "execution_count": 30,
     "metadata": {},
     "output_type": "execute_result"
    }
   ],
   "source": [
    "d = {'a': 1, 'b': 42}\n",
    "d['b']"
   ]
  },
  {
   "cell_type": "code",
   "execution_count": 31,
   "metadata": {},
   "outputs": [
    {
     "data": {
      "text/plain": [
       "{1, 2, 3}"
      ]
     },
     "execution_count": 31,
     "metadata": {},
     "output_type": "execute_result"
    }
   ],
   "source": [
    "{1, 2, 3, 3, 3}  # set，數學上的集合，裡面的東西不會重複，也沒有順序"
   ]
  },
  {
   "cell_type": "code",
   "execution_count": 32,
   "metadata": {},
   "outputs": [
    {
     "data": {
      "text/plain": [
       "{1, 2, 3, 4}"
      ]
     },
     "execution_count": 32,
     "metadata": {},
     "output_type": "execute_result"
    }
   ],
   "source": [
    "A = {1, 2, 3}\n",
    "B = {1, 2, 4}\n",
    "A | B            # 取聯集"
   ]
  },
  {
   "cell_type": "code",
   "execution_count": 33,
   "metadata": {},
   "outputs": [
    {
     "data": {
      "text/plain": [
       "{1, 2}"
      ]
     },
     "execution_count": 33,
     "metadata": {},
     "output_type": "execute_result"
    }
   ],
   "source": [
    "A & B            # 取交集"
   ]
  },
  {
   "cell_type": "code",
   "execution_count": 34,
   "metadata": {},
   "outputs": [
    {
     "data": {
      "text/plain": [
       "{3, 4}"
      ]
     },
     "execution_count": 34,
     "metadata": {},
     "output_type": "execute_result"
    }
   ],
   "source": [
    "A ^ B            # 取對稱差"
   ]
  },
  {
   "cell_type": "code",
   "execution_count": 35,
   "metadata": {},
   "outputs": [
    {
     "data": {
      "text/plain": [
       "{3}"
      ]
     },
     "execution_count": 35,
     "metadata": {},
     "output_type": "execute_result"
    }
   ],
   "source": [
    "A - B            # 取差集"
   ]
  },
  {
   "cell_type": "markdown",
   "metadata": {},
   "source": [
    "## 真偽值\n",
    "\n",
    "* True/False\n",
    "* `>` `>=` `<` `<=` `==` `!=` `in`\n",
    "* and/or/not\n",
    "* is\n",
    "* 各種 empty 狀況\n",
    "    - 0, 1\n",
    "    - \"\", \"abc\"\n",
    "    - (,), (1, 2)\n",
    "    - [], [1, 2]\n",
    "    - set(), {1, 2}"
   ]
  },
  {
   "cell_type": "code",
   "execution_count": 36,
   "metadata": {},
   "outputs": [
    {
     "data": {
      "text/plain": [
       "True"
      ]
     },
     "execution_count": 36,
     "metadata": {},
     "output_type": "execute_result"
    }
   ],
   "source": [
    "True"
   ]
  },
  {
   "cell_type": "code",
   "execution_count": 37,
   "metadata": {},
   "outputs": [
    {
     "data": {
      "text/plain": [
       "False"
      ]
     },
     "execution_count": 37,
     "metadata": {},
     "output_type": "execute_result"
    }
   ],
   "source": [
    "False"
   ]
  },
  {
   "cell_type": "code",
   "execution_count": 38,
   "metadata": {},
   "outputs": [
    {
     "data": {
      "text/plain": [
       "True"
      ]
     },
     "execution_count": 38,
     "metadata": {},
     "output_type": "execute_result"
    }
   ],
   "source": [
    "3 > 2"
   ]
  },
  {
   "cell_type": "code",
   "execution_count": 39,
   "metadata": {},
   "outputs": [
    {
     "data": {
      "text/plain": [
       "False"
      ]
     },
     "execution_count": 39,
     "metadata": {},
     "output_type": "execute_result"
    }
   ],
   "source": [
    "5 <= 1"
   ]
  },
  {
   "cell_type": "code",
   "execution_count": 40,
   "metadata": {},
   "outputs": [
    {
     "data": {
      "text/plain": [
       "True"
      ]
     },
     "execution_count": 40,
     "metadata": {},
     "output_type": "execute_result"
    }
   ],
   "source": [
    "1 != 2"
   ]
  },
  {
   "cell_type": "code",
   "execution_count": 20,
   "metadata": {},
   "outputs": [
    {
     "name": "stdout",
     "output_type": "stream",
     "text": [
      "不及格\n"
     ]
    }
   ],
   "source": [
    "score=52\n",
    "if score >=60:\n",
    "    print(\"及格\")\n",
    "else:\n",
    "    print(\"不及格\")"
   ]
  },
  {
   "cell_type": "code",
   "execution_count": 41,
   "metadata": {},
   "outputs": [
    {
     "data": {
      "text/plain": [
       "True"
      ]
     },
     "execution_count": 41,
     "metadata": {},
     "output_type": "execute_result"
    }
   ],
   "source": [
    "5 in [1, 2, 3, 4, 5]"
   ]
  },
  {
   "cell_type": "code",
   "execution_count": 42,
   "metadata": {},
   "outputs": [
    {
     "data": {
      "text/plain": [
       "False"
      ]
     },
     "execution_count": 42,
     "metadata": {},
     "output_type": "execute_result"
    }
   ],
   "source": [
    "bool(0)    # 用 bool 來看各個資料是 True 還是 False"
   ]
  },
  {
   "cell_type": "code",
   "execution_count": 43,
   "metadata": {},
   "outputs": [
    {
     "data": {
      "text/plain": [
       "True"
      ]
     },
     "execution_count": 43,
     "metadata": {},
     "output_type": "execute_result"
    }
   ],
   "source": [
    "bool(42)"
   ]
  },
  {
   "cell_type": "code",
   "execution_count": 44,
   "metadata": {},
   "outputs": [
    {
     "data": {
      "text/plain": [
       "(False, True)"
      ]
     },
     "execution_count": 44,
     "metadata": {},
     "output_type": "execute_result"
    }
   ],
   "source": [
    "bool(\"\"), bool(\"abc\")"
   ]
  },
  {
   "cell_type": "code",
   "execution_count": 45,
   "metadata": {},
   "outputs": [
    {
     "data": {
      "text/plain": [
       "(False, True)"
      ]
     },
     "execution_count": 45,
     "metadata": {},
     "output_type": "execute_result"
    }
   ],
   "source": [
    "bool(tuple()), bool((1, 2))"
   ]
  },
  {
   "cell_type": "code",
   "execution_count": 46,
   "metadata": {},
   "outputs": [
    {
     "data": {
      "text/plain": [
       "(False, True)"
      ]
     },
     "execution_count": 46,
     "metadata": {},
     "output_type": "execute_result"
    }
   ],
   "source": [
    "bool([]), bool([1, 2])"
   ]
  },
  {
   "cell_type": "code",
   "execution_count": 47,
   "metadata": {},
   "outputs": [
    {
     "data": {
      "text/plain": [
       "(False, True)"
      ]
     },
     "execution_count": 47,
     "metadata": {},
     "output_type": "execute_result"
    }
   ],
   "source": [
    "bool(set()), bool({1, 2})"
   ]
  },
  {
   "cell_type": "code",
   "execution_count": 48,
   "metadata": {},
   "outputs": [
    {
     "data": {
      "text/plain": [
       "(False, True)"
      ]
     },
     "execution_count": 48,
     "metadata": {},
     "output_type": "execute_result"
    }
   ],
   "source": [
    "bool(dict()), bool({'a': 1, 'b': 42})"
   ]
  },
  {
   "cell_type": "markdown",
   "metadata": {},
   "source": [
    "## 流程控制\n",
    "\n",
    "* if ... elif ... else\n",
    "* for ... in ...\n",
    "* break\n",
    "* continue\n",
    "* while ... else ..."
   ]
  },
  {
   "cell_type": "code",
   "execution_count": 49,
   "metadata": {
    "scrolled": false
   },
   "outputs": [
    {
     "name": "stdout",
     "output_type": "stream",
     "text": [
      "Yes\n"
     ]
    }
   ],
   "source": [
    "if 3 > 2:\n",
    "    print('Yes')\n",
    "else:\n",
    "    print('No')    # 如果 3 > 2 的話印出 'Yes'，否則印出 'Nooooooo, why can you come here?'\n",
    "                                                 # 注意縮排是有影響的"
   ]
  },
  {
   "cell_type": "code",
   "execution_count": 47,
   "metadata": {},
   "outputs": [
    {
     "name": "stdout",
     "output_type": "stream",
     "text": [
      "請輸入本科成績:69\n",
      "及格\n"
     ]
    }
   ],
   "source": [
    "score=int(input(\"請輸入本科成績:\"))\n",
    "if score<0:\n",
    "    print(\"你好爛\")\n",
    "elif score>100:\n",
    "    print(\"超過極限了\")\n",
    "elif score >=60:\n",
    "    print(\"及格\")\n",
    "else:\n",
    "    print(\"不及格\")"
   ]
  },
  {
   "cell_type": "code",
   "execution_count": 43,
   "metadata": {},
   "outputs": [
    {
     "name": "stdout",
     "output_type": "stream",
     "text": [
      "Yes\n"
     ]
    }
   ],
   "source": [
    "if 2 > 3:\n",
    "    print('No')\n",
    "elif 5 > 4:\n",
    "    print('Yes')\n",
    "else:\n",
    "    print('@_@?')    # 如果 2 > 3 的話印出 'No'，要不然 5 > 4 的話就印出 'Yes'，否則印出 '@_@?'"
   ]
  },
  {
   "cell_type": "markdown",
   "metadata": {},
   "source": [
    "## 利用 input 作為使用者輸入介面，使用 int() 將輸入值改為整數"
   ]
  },
  {
   "cell_type": "code",
   "execution_count": 51,
   "metadata": {},
   "outputs": [
    {
     "name": "stdout",
     "output_type": "stream",
     "text": [
      "請輸入今天的溫度：29\n",
      "該開冷氣了！\n"
     ]
    }
   ],
   "source": [
    "temperature = int(input(\"請輸入今天的溫度：\"))\n",
    "if temperature >= 28:\n",
    "    print(\"該開冷氣了！\")\n",
    "else:\n",
    "    print(\"吹電風扇就好。\")"
   ]
  },
  {
   "cell_type": "markdown",
   "metadata": {},
   "source": [
    "## 利用 str 將數值改為字串以輸出顯示"
   ]
  },
  {
   "cell_type": "code",
   "execution_count": 52,
   "metadata": {},
   "outputs": [
    {
     "name": "stdout",
     "output_type": "stream",
     "text": [
      "請輸入今天的溫度：26\n",
      "今天溫度26度，吹電風扇就好。\n"
     ]
    }
   ],
   "source": [
    "temperature = int(input(\"請輸入今天的溫度：\"))\n",
    "if temperature >= 28:\n",
    "    print(\"今天溫度\"+str(temperature)+\"度，該開冷氣了！\")\n",
    "else:\n",
    "    print(\"今天溫度\"+str(temperature)+\"度，吹電風扇就好。\")"
   ]
  },
  {
   "cell_type": "markdown",
   "metadata": {},
   "source": [
    "## <font color=\"Red\"> 1.3 請增加溫度的判斷，熟能生巧 </font>\n",
    "\n",
    "<font color=\"Red\"> 溫度範圍與顯示字串如下：   \n",
    "<font color=\"Red\"> 1. 今天溫度 >= 28 度，顯示\"今天溫度??度，該開冷氣了！\"    \n",
    "<font color=\"Red\"> 2. 今天溫度介於 20 到 27 度，顯示\"今天溫度??度，吹電風扇就好。\"      \n",
    "<font color=\"Red\"> 3. 今天溫度介於 10 到 19 度，顯示\"今天溫度??度，開窗就可以了。\"      \n",
    "<font color=\"Red\"> 4. 今天溫度 9 度以下，顯示\"今天溫度??度，太冷了，關好窗戶。\"    "
   ]
  },
  {
   "cell_type": "code",
   "execution_count": 53,
   "metadata": {
    "scrolled": true
   },
   "outputs": [
    {
     "name": "stdout",
     "output_type": "stream",
     "text": [
      "請輸入今天的溫度：12\n",
      "今天溫度12度，開窗就可以了。\n"
     ]
    }
   ],
   "source": [
    "temperature = int(input(\"請輸入今天的溫度：\"))\n",
    "#------------------- Code Here ------------------------#\n",
    "   \n",
    "#------------------- Stop Here ------------------------#    "
   ]
  },
  {
   "cell_type": "code",
   "execution_count": 21,
   "metadata": {
    "scrolled": true
   },
   "outputs": [
    {
     "name": "stdout",
     "output_type": "stream",
     "text": [
      "今天溫度0度，太冷了，關好窗戶。\n",
      "今天溫度1度，吹電風扇就好。\n",
      "今天溫度2度，吹電風扇就好。\n",
      "今天溫度3度，吹電風扇就好。\n",
      "今天溫度4度，開窗就可以了。\n",
      "今天溫度5度，吹電風扇就好。\n",
      "今天溫度6度，吹電風扇就好。\n",
      "今天溫度7度，吹電風扇就好。\n",
      "今天溫度8度，吹電風扇就好。\n",
      "今天溫度9度，吹電風扇就好。\n",
      "今天溫度10度，吹電風扇就好。\n",
      "今天溫度11度，吹電風扇就好。\n",
      "今天溫度12度，吹電風扇就好。\n",
      "今天溫度13度，吹電風扇就好。\n",
      "今天溫度14度，吹電風扇就好。\n",
      "今天溫度15度，吹電風扇就好。\n",
      "今天溫度16度，開窗就可以了。\n",
      "今天溫度17度，吹電風扇就好。\n",
      "今天溫度18度，吹電風扇就好。\n",
      "今天溫度19度，吹電風扇就好。\n",
      "今天溫度20度，開窗就可以了。\n",
      "今天溫度21度，吹電風扇就好。\n",
      "今天溫度22度，吹電風扇就好。\n",
      "今天溫度23度，吹電風扇就好。\n",
      "今天溫度24度，吹電風扇就好。\n",
      "今天溫度25度，吹電風扇就好。\n",
      "今天溫度26度，吹電風扇就好。\n",
      "今天溫度27度，吹電風扇就好。\n",
      "今天溫度28度，該開冷氣了！\n",
      "今天溫度29度，該開冷氣了！\n"
     ]
    }
   ],
   "source": [
    "# temperature = int(input(\"請輸入今天的溫度：\"))\n",
    "for temperature in range (0,30):\n",
    "    if temperature >= 28:\n",
    "        print(\"今天溫度\"+str(temperature)+\"度，該開冷氣了！\")\n",
    "    elif  temperature >20 & temperature <=27:\n",
    "        print(\"今天溫度\"+str(temperature)+\"度，吹電風扇就好。\") \n",
    "    elif  temperature >10 & temperature <=20:\n",
    "        print(\"今天溫度\"+str(temperature)+\"度，開窗就可以了。\") \n",
    "    else:\n",
    "        print(\"今天溫度\"+str(temperature)+\"度，太冷了，關好窗戶。\")\n",
    "    \n"
   ]
  },
  {
   "cell_type": "code",
   "execution_count": 25,
   "metadata": {},
   "outputs": [
    {
     "name": "stdout",
     "output_type": "stream",
     "text": [
      "請輸入今天的溫度：20\n",
      "今天溫度20度，開窗就可以了。\n"
     ]
    }
   ],
   "source": [
    "temperature = int(input(\"請輸入今天的溫度：\"))\n",
    "\n",
    "if temperature >= 28:\n",
    "    print(\"今天溫度\"+str(temperature)+\"度，該開冷氣了！\")\n",
    "elif  temperature >20 and temperature <=27:\n",
    "    print(\"今天溫度\"+str(temperature)+\"度，吹電風扇就好。\") \n",
    "elif  temperature >10 and temperature <=20:\n",
    "    print(\"今天溫度\"+str(temperature)+\"度，開窗就可以了。\") \n",
    "else:\n",
    "    print(\"今天溫度\"+str(temperature)+\"度，太冷了，關好窗戶。\")\n",
    "    \n"
   ]
  },
  {
   "cell_type": "markdown",
   "metadata": {},
   "source": [
    "## 常見的數字計算"
   ]
  },
  {
   "cell_type": "code",
   "execution_count": 54,
   "metadata": {},
   "outputs": [
    {
     "name": "stdout",
     "output_type": "stream",
     "text": [
      "a = 5.50, b = 3.20, c = a+b = 8.70\n",
      "a = 5.50, b = 3.20, d = a-b = 2.30\n",
      "a = 5.50, b = 3.20, e = a*b = 17.60\n",
      "a = 5.50, b = 3.20, f = a/b = 1.72\n"
     ]
    }
   ],
   "source": [
    "a = 5.5\n",
    "b = 3.2\n",
    "c = a+b\n",
    "d = a-b\n",
    "e = a*b\n",
    "f = a/b\n",
    "print(\"a = %.2f, b = %.2f, c = a+b = %.2f\"%(a,b,c))\n",
    "print(\"a = %.2f, b = %.2f, d = a-b = %.2f\"%(a,b,d))\n",
    "print(\"a = %.2f, b = %.2f, e = a*b = %.2f\"%(a,b,e))\n",
    "print(\"a = %.2f, b = %.2f, f = a/b = %.2f\"%(a,b,f))"
   ]
  },
  {
   "cell_type": "markdown",
   "metadata": {},
   "source": [
    "## <font color=\"Red\"> 1.4 BMI 計算\n",
    "<font color=\"Red\"> 讓使用者可以自行輸入身高、體重，接著計算 BMI 值，並輸出小數點以下兩位的格式\n",
    "<img src=https://health99.hpa.gov.tw/img/exam/bmi_form.png width=\"200\">"
   ]
  },
  {
   "cell_type": "code",
   "execution_count": 55,
   "metadata": {},
   "outputs": [
    {
     "name": "stdout",
     "output_type": "stream",
     "text": [
      "請輸入你的身高(cm)：170\n",
      "請輸入你的體重(kg)：70\n",
      "你的BMI數值為：20.588235\n"
     ]
    }
   ],
   "source": [
    "height = int(input(\"請輸入你的身高(cm)：\"))\n",
    "weight = int(input(\"請輸入你的體重(kg)：\"))\n",
    "#------------------- Code Here ------------------------#\n",
    "\n",
    "#------------------- Stop Here ------------------------#    "
   ]
  },
  {
   "cell_type": "markdown",
   "metadata": {},
   "source": [
    "## for 迴圈"
   ]
  },
  {
   "cell_type": "code",
   "execution_count": 56,
   "metadata": {},
   "outputs": [
    {
     "name": "stdout",
     "output_type": "stream",
     "text": [
      "1\n",
      "2\n",
      "3\n",
      "4\n"
     ]
    }
   ],
   "source": [
    "for i in [1, 2, 3, 4]:    # i 會依序變成 1, 2, 3, 4 來執行下面 block 的程式，在這邊則是會被印出來\n",
    "    print(i)"
   ]
  },
  {
   "cell_type": "code",
   "execution_count": 57,
   "metadata": {},
   "outputs": [
    {
     "name": "stdout",
     "output_type": "stream",
     "text": [
      "1\n",
      "2\n"
     ]
    }
   ],
   "source": [
    "for i in [1, 2, 3, 4]:\n",
    "    if i == 3:\n",
    "        break    # 使用 break 來提早離開，當 i 變成 3 時就離開這個 for loop\n",
    "    print(i)"
   ]
  },
  {
   "cell_type": "code",
   "execution_count": 58,
   "metadata": {
    "scrolled": true
   },
   "outputs": [
    {
     "name": "stdout",
     "output_type": "stream",
     "text": [
      "1\n",
      "2\n",
      "3\n",
      "4\n",
      "End\n"
     ]
    }
   ],
   "source": [
    "for i in [1, 2, 3, 4]:\n",
    "    print(i)\n",
    "else:\n",
    "    print('End')    # 如果前面的 for 成功跑完的話會執行這段"
   ]
  },
  {
   "cell_type": "code",
   "execution_count": 59,
   "metadata": {},
   "outputs": [
    {
     "name": "stdout",
     "output_type": "stream",
     "text": [
      "1\n",
      "2\n"
     ]
    }
   ],
   "source": [
    "for i in [1, 2, 3, 4]:\n",
    "    if i == 3:\n",
    "        break\n",
    "    print(i)\n",
    "else:\n",
    "    print('End')    # 如果前面的 for 成功跑完的話會執行這段"
   ]
  },
  {
   "cell_type": "code",
   "execution_count": 60,
   "metadata": {},
   "outputs": [
    {
     "name": "stdout",
     "output_type": "stream",
     "text": [
      "1\n",
      "2\n",
      "4\n",
      "End\n"
     ]
    }
   ],
   "source": [
    "for i in [1, 2, 3, 4]:\n",
    "    if i == 3:\n",
    "        continue    # continue 可以跳過這次後面的 code，進入下一輪\n",
    "    print(i)\n",
    "else:\n",
    "    print('End')    # 如果前面的 for 成功跑完的話會執行這段"
   ]
  },
  {
   "cell_type": "markdown",
   "metadata": {},
   "source": [
    "## <font color=\"Red\"> 1.5 使用 for 迴圈計算 [1, 2, 3, 4, 6, 7]的數值總和</font>"
   ]
  },
  {
   "cell_type": "code",
   "execution_count": 61,
   "metadata": {},
   "outputs": [
    {
     "name": "stdout",
     "output_type": "stream",
     "text": [
      "總和為:23\n"
     ]
    }
   ],
   "source": [
    "sum = 0\n",
    "#------------------- Code Here ------------------------#\n",
    "\n",
    "#------------------- Stop Here ------------------------#    \n",
    "print(\"總和為:\"+str(sum))    "
   ]
  },
  {
   "cell_type": "markdown",
   "metadata": {},
   "source": [
    "## while 迴圈"
   ]
  },
  {
   "cell_type": "code",
   "execution_count": 62,
   "metadata": {},
   "outputs": [
    {
     "name": "stdout",
     "output_type": "stream",
     "text": [
      "4\n",
      "3\n",
      "2\n",
      "1\n"
     ]
    }
   ],
   "source": [
    "i = 4\n",
    "while i > 0:   # 當 while 後面接的條件一直符合時就會繼續執行\n",
    "    print(i)\n",
    "    i = i - 1"
   ]
  },
  {
   "cell_type": "code",
   "execution_count": 63,
   "metadata": {},
   "outputs": [
    {
     "name": "stdout",
     "output_type": "stream",
     "text": [
      "4\n",
      "3\n",
      "2\n",
      "1\n",
      "End\n"
     ]
    }
   ],
   "source": [
    "i = 4\n",
    "while i > 0:   \n",
    "    print(i)\n",
    "    i = i - 1\n",
    "else:\n",
    "    print('End')"
   ]
  },
  {
   "cell_type": "code",
   "execution_count": 64,
   "metadata": {},
   "outputs": [
    {
     "name": "stdout",
     "output_type": "stream",
     "text": [
      "4\n"
     ]
    }
   ],
   "source": [
    "i = 4\n",
    "while i > 0:   \n",
    "    if i == 3:\n",
    "        break\n",
    "    print(i)\n",
    "    i = i - 1\n",
    "else:\n",
    "    print('End')"
   ]
  },
  {
   "cell_type": "markdown",
   "metadata": {},
   "source": [
    "## <font color=\"Red\"> 1.6 使用while計算小於等於40的偶數和"
   ]
  },
  {
   "cell_type": "code",
   "execution_count": 65,
   "metadata": {},
   "outputs": [
    {
     "name": "stdout",
     "output_type": "stream",
     "text": [
      "小於等於40的偶數和:420\n"
     ]
    }
   ],
   "source": [
    "i = 40\n",
    "sum = 0;\n",
    "#------------------- Code Here ------------------------#\n",
    " \n",
    "#------------------- Stop Here ------------------------#    \n",
    "print(\"小於等於40的偶數和:\"+str(sum))        "
   ]
  },
  {
   "cell_type": "markdown",
   "metadata": {},
   "source": [
    "## <font color=\"Red\"> 1.7 使用while計算小於等於200的 3 或 5 的倍數和"
   ]
  },
  {
   "cell_type": "code",
   "execution_count": 66,
   "metadata": {},
   "outputs": [
    {
     "name": "stdout",
     "output_type": "stream",
     "text": [
      "小於等於200的 3 或 5 的倍數和:9368\n"
     ]
    }
   ],
   "source": [
    "#Method 1 (使用 if 和 elif)\n",
    "i = 200\n",
    "sum = 0;\n",
    "#------------------- Code Here ------------------------#\n",
    " \n",
    "#------------------- Stop Here ------------------------#    \n",
    "print(\"小於等於200的 3 或 5 的倍數和:\"+str(sum))   "
   ]
  },
  {
   "cell_type": "code",
   "execution_count": 67,
   "metadata": {},
   "outputs": [
    {
     "name": "stdout",
     "output_type": "stream",
     "text": [
      "小於等於200的 3 或 5 的倍數和:9368\n"
     ]
    }
   ],
   "source": [
    "#Method 2 (僅使用一個 if)\n",
    "i = 200\n",
    "sum = 0;\n",
    "#------------------- Code Here ------------------------#\n",
    "  \n",
    "#------------------- Stop Here ------------------------#    \n",
    "print(\"小於等於200的 3 或 5 的倍數和:\"+str(sum))   "
   ]
  },
  {
   "cell_type": "markdown",
   "metadata": {},
   "source": [
    "## 更多字串操作\n",
    "\n",
    "* string formatting\n",
    "* 字串串接\n",
    "* slice : `start:stop[:step]`"
   ]
  },
  {
   "cell_type": "code",
   "execution_count": 68,
   "metadata": {},
   "outputs": [
    {
     "data": {
      "text/plain": [
       "'1 | 2'"
      ]
     },
     "execution_count": 68,
     "metadata": {},
     "output_type": "execute_result"
    }
   ],
   "source": [
    "'{} | {}'.format(1, 2)    # 用 {} 表示要留著填空，後面用 .format 傳入要填進去的值"
   ]
  },
  {
   "cell_type": "code",
   "execution_count": 69,
   "metadata": {},
   "outputs": [
    {
     "data": {
      "text/plain": [
       "'~ [1, 2, 3, 4] ~'"
      ]
     },
     "execution_count": 69,
     "metadata": {},
     "output_type": "execute_result"
    }
   ],
   "source": [
    "'~ {} ~'.format([1, 2, 3, 4])"
   ]
  },
  {
   "cell_type": "code",
   "execution_count": 70,
   "metadata": {},
   "outputs": [
    {
     "data": {
      "text/plain": [
       "'上上下下左右左右BA'"
      ]
     },
     "execution_count": 70,
     "metadata": {},
     "output_type": "execute_result"
    }
   ],
   "source": [
    "'上上下下' + '左右左右' + 'BA'    # 用 + 可以把字串接起來"
   ]
  },
  {
   "cell_type": "code",
   "execution_count": 71,
   "metadata": {},
   "outputs": [],
   "source": [
    "s = 'abcdefghijklmnopqrstuvwxyz'"
   ]
  },
  {
   "cell_type": "code",
   "execution_count": 72,
   "metadata": {},
   "outputs": [
    {
     "data": {
      "text/plain": [
       "'a'"
      ]
     },
     "execution_count": 72,
     "metadata": {},
     "output_type": "execute_result"
    }
   ],
   "source": [
    "s[0]"
   ]
  },
  {
   "cell_type": "code",
   "execution_count": 73,
   "metadata": {},
   "outputs": [
    {
     "data": {
      "text/plain": [
       "'bcd'"
      ]
     },
     "execution_count": 73,
     "metadata": {},
     "output_type": "execute_result"
    }
   ],
   "source": [
    "s[1:4]    # index 1 到 index 3 (index 4 結束)"
   ]
  },
  {
   "cell_type": "code",
   "execution_count": 74,
   "metadata": {},
   "outputs": [
    {
     "data": {
      "text/plain": [
       "'z'"
      ]
     },
     "execution_count": 74,
     "metadata": {},
     "output_type": "execute_result"
    }
   ],
   "source": [
    "s[-1]     # 負的 index 會倒回去"
   ]
  },
  {
   "cell_type": "code",
   "execution_count": 75,
   "metadata": {},
   "outputs": [
    {
     "data": {
      "text/plain": [
       "'bdfh'"
      ]
     },
     "execution_count": 75,
     "metadata": {},
     "output_type": "execute_result"
    }
   ],
   "source": [
    "s[1:8:2]  # index 1 到 index 7，每次跳兩步"
   ]
  },
  {
   "cell_type": "code",
   "execution_count": 76,
   "metadata": {},
   "outputs": [
    {
     "data": {
      "text/plain": [
       "'zxvt'"
      ]
     },
     "execution_count": 76,
     "metadata": {},
     "output_type": "execute_result"
    }
   ],
   "source": [
    "s[-1:-9:-2]"
   ]
  },
  {
   "cell_type": "code",
   "execution_count": 77,
   "metadata": {},
   "outputs": [
    {
     "data": {
      "text/plain": [
       "'zyxwvutsrqponmlkjihgfedcba'"
      ]
     },
     "execution_count": 77,
     "metadata": {},
     "output_type": "execute_result"
    }
   ],
   "source": [
    "s[::-1]   # 顛倒，不指定的話會自動帶入值"
   ]
  },
  {
   "cell_type": "markdown",
   "metadata": {},
   "source": [
    "## Function\n",
    "\n",
    "一些常用的 code 會寫成 function，之後要使用時直接呼叫就可以了"
   ]
  },
  {
   "cell_type": "code",
   "execution_count": 78,
   "metadata": {
    "scrolled": true
   },
   "outputs": [
    {
     "name": "stdout",
     "output_type": "stream",
     "text": [
      "Hello ~\n"
     ]
    }
   ],
   "source": [
    "def hello():          \n",
    "    print('Hello ~')\n",
    "\n",
    "hello()   "
   ]
  },
  {
   "cell_type": "code",
   "execution_count": 79,
   "metadata": {},
   "outputs": [
    {
     "name": "stdout",
     "output_type": "stream",
     "text": [
      "42\n"
     ]
    }
   ],
   "source": [
    "def f_42():\n",
    "    return 42    # 用 return 來回傳資料\n",
    "\n",
    "x = f_42()\n",
    "print(x)"
   ]
  },
  {
   "cell_type": "code",
   "execution_count": 80,
   "metadata": {},
   "outputs": [
    {
     "name": "stdout",
     "output_type": "stream",
     "text": [
      "13 15\n"
     ]
    }
   ],
   "source": [
    "def f(a, b=3):   # a 和 b 是參數，b 預設是 3\n",
    "    return a+b\n",
    "\n",
    "x = f(10)\n",
    "y = f(10, 5)\n",
    "print(x, y)"
   ]
  },
  {
   "cell_type": "markdown",
   "metadata": {},
   "source": [
    "## <font color=\"Red\"> 1.8 函數練習</font>\n",
    "<font color=\"Red\">撰寫函數 test(a,b)，計算傳入兩個數a和b的平均值</font>"
   ]
  },
  {
   "cell_type": "code",
   "execution_count": 81,
   "metadata": {},
   "outputs": [
    {
     "name": "stdout",
     "output_type": "stream",
     "text": [
      "5.5\n"
     ]
    }
   ],
   "source": [
    "#------------------- Code Here ------------------------#\n",
    "\n",
    "#------------------- Stop Here ------------------------#\n",
    "r = test(4,7)\n",
    "print(r)"
   ]
  },
  {
   "cell_type": "markdown",
   "metadata": {},
   "source": [
    "## <font color=\"Red\"> 1.9 函數練習</font>\n",
    "<font color=\"Red\">撰寫函數 test2(a)，計算傳入串列a中所有值的平均 <p>\n",
    "例如：a=[1, 2, 3, 4]</font>"
   ]
  },
  {
   "cell_type": "code",
   "execution_count": 82,
   "metadata": {},
   "outputs": [
    {
     "name": "stdout",
     "output_type": "stream",
     "text": [
      "2.5\n"
     ]
    }
   ],
   "source": [
    "#------------------- Code Here ------------------------#\n",
    "\n",
    "#------------------- Stop Here ------------------------#\n",
    "r = test2([1, 2, 3, 4])\n",
    "print(r)"
   ]
  },
  {
   "cell_type": "markdown",
   "metadata": {},
   "source": [
    "# <font color=\"Red\"> 1.10 函數練習</font>\n",
    "<font color=\"Red\">撰寫函數 test3(a)，計算傳入串列a中所有值的平均值(Mean)與變異數(Variance)，再利用串列方式回傳 <p>\n",
    "例如：a=[1, 2, 3, 4]</font>\n",
    "\n",
    "<img src=\"https://images.squarespace-cdn.com/content/v1/533db07de4b0d9f7ba7f1e77/1552186395207-9OQVIKUBI0G3TJPEJJ7R/summary+table+of+mean%2C+variance%2C+and+standard+deviation+formulas?format=1500w%22\"  width=\"700\">"
   ]
  },
  {
   "cell_type": "code",
   "execution_count": 83,
   "metadata": {},
   "outputs": [
    {
     "name": "stdout",
     "output_type": "stream",
     "text": [
      "[2.5, 1.25]\n"
     ]
    }
   ],
   "source": [
    "#------------------- Code Here ------------------------#\n",
    "\n",
    "#------------------- Stop Here ------------------------#\n",
    "ans = test3([1, 2, 3, 4])\n",
    "print(ans)"
   ]
  },
  {
   "cell_type": "markdown",
   "metadata": {},
   "source": [
    "## <font color=\"Red\"> 1.11 設計一個程式，輸入一個整數n，並在函式calSquare中計算1到n之間所有數字的平方和。¶"
   ]
  },
  {
   "cell_type": "code",
   "execution_count": 84,
   "metadata": {},
   "outputs": [
    {
     "name": "stdout",
     "output_type": "stream",
     "text": [
      "請輸入一個數字15\n",
      "1到n之間所有數字平方和為1240\n"
     ]
    }
   ],
   "source": [
    "#------------------- Code Here ------------------------#\n",
    "  \n",
    "#------------------- Code Here ------------------------#    \n",
    "number = int(input(\"請輸入一個數字\"))\n",
    "cal_number = calSquare(number)\n",
    "print(\"1到n之間所有數字平方和為\"+str(cal_number))"
   ]
  },
  {
   "cell_type": "markdown",
   "metadata": {},
   "source": [
    "## <font color=\"Red\"> 1.12 設計一個程式，輸入兩個整數a和b，並在函式calSquare5中計算a到b之間5的倍數的平方和。¶"
   ]
  },
  {
   "cell_type": "code",
   "execution_count": 85,
   "metadata": {},
   "outputs": [
    {
     "name": "stdout",
     "output_type": "stream",
     "text": [
      "請輸入第一個數字3\n",
      "請輸入第二個數字14\n",
      "3到14之間所有數字平方和為125\n"
     ]
    }
   ],
   "source": [
    "#------------------- Code Here ------------------------#\n",
    "   \n",
    "#------------------- Code Here ------------------------#    \n",
    "a = int(input(\"請輸入第一個數字\"))\n",
    "b = int(input(\"請輸入第二個數字\"))\n",
    "cal_number = calSquare5(a,b)\n",
    "print(str(a)+\"到\"+str(b)+\"之間所有數字平方和為\"+str(cal_number))"
   ]
  },
  {
   "cell_type": "markdown",
   "metadata": {},
   "source": [
    "## <font color=\"Red\"> 1.13 寫一個程式，輸入一個整數n，並在函式checkPrime中判斷n是不是質數。"
   ]
  },
  {
   "cell_type": "code",
   "execution_count": 86,
   "metadata": {},
   "outputs": [
    {
     "name": "stdout",
     "output_type": "stream",
     "text": [
      "請輸入一個數字127\n",
      "數字127是質數嗎？Yes\n"
     ]
    }
   ],
   "source": [
    "#------------------- Code Here ------------------------#\n",
    " \n",
    "#------------------- Code Here ------------------------#    \n",
    "number = int(input(\"請輸入一個數字\"))\n",
    "isPrime = checkPrime(number)\n",
    "print(\"數字\"+str(number)+\"是質數嗎？\"+isPrime)\n"
   ]
  }
 ],
 "metadata": {
  "kernelspec": {
   "display_name": "Python 3 (ipykernel)",
   "language": "python",
   "name": "python3"
  },
  "language_info": {
   "codemirror_mode": {
    "name": "ipython",
    "version": 3
   },
   "file_extension": ".py",
   "mimetype": "text/x-python",
   "name": "python",
   "nbconvert_exporter": "python",
   "pygments_lexer": "ipython3",
   "version": "3.10.9"
  }
 },
 "nbformat": 4,
 "nbformat_minor": 1
}
